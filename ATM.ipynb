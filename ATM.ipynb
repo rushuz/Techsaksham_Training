{
 "cells": [
  {
   "cell_type": "code",
   "execution_count": 1,
   "id": "47a5e1ce-a6ec-4d51-ac2b-965a2298b9bf",
   "metadata": {},
   "outputs": [
    {
     "name": "stdin",
     "output_type": "stream",
     "text": [
      "Enter your pin:  1234\n",
      "Enter the amount you want:  2560\n"
     ]
    },
    {
     "name": "stdout",
     "output_type": "stream",
     "text": [
      "Received 2000: 1 notes\n",
      "Received 500: 1 notes\n",
      "Received 50: 1 notes\n",
      "Received 10: 1 notes\n",
      "lele bhai...\n"
     ]
    }
   ],
   "source": [
    "pin=int(input(\"Enter your pin: \"))\n",
    "pins = [1234,5678,2345,3456,4567]\n",
    "notes=[2000,500,200,100,50,20,10]\n",
    "note_count = {}\n",
    "for i in range(3):\n",
    "    if pin in pins:\n",
    "        amount=int(input(\"Enter the amount you want: \"))\n",
    "        if amount % 10 != 0:\n",
    "            print(\"Amount should me a multile of 10\")\n",
    "        else:\n",
    "            for note in notes:\n",
    "                    if amount >= note:\n",
    "                        note_count[note] = amount // note\n",
    "                        amount %= note\n",
    "            for note, count in note_count.items():\n",
    "                    print(f\"Received {note}: {count} notes\") \n",
    "        break\n",
    "else:\n",
    "    print(\"bhai galat pin dala...\")\n",
    "\n",
    "print(\"lele bhai...\")"
   ]
  },
  {
   "cell_type": "code",
   "execution_count": null,
   "id": "f870860f-5b0e-4c07-863d-25e30114b112",
   "metadata": {},
   "outputs": [],
   "source": []
  }
 ],
 "metadata": {
  "kernelspec": {
   "display_name": "Python 3 (ipykernel)",
   "language": "python",
   "name": "python3"
  },
  "language_info": {
   "codemirror_mode": {
    "name": "ipython",
    "version": 3
   },
   "file_extension": ".py",
   "mimetype": "text/x-python",
   "name": "python",
   "nbconvert_exporter": "python",
   "pygments_lexer": "ipython3",
   "version": "3.12.4"
  }
 },
 "nbformat": 4,
 "nbformat_minor": 5
}
