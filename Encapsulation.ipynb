{
 "cells": [
  {
   "cell_type": "code",
   "execution_count": 9,
   "id": "650927d5-1e8b-4fd5-9ae0-27767eaf8faa",
   "metadata": {
    "scrolled": true
   },
   "outputs": [
    {
     "name": "stdout",
     "output_type": "stream",
     "text": [
      "12\n",
      "ABC\n",
      "XYZ\n",
      "PQR\n",
      "outside of the class PQR\n"
     ]
    }
   ],
   "source": [
    "# encapsulation\n",
    "# private __\n",
    "# protected _\n",
    "\n",
    "# private variables \n",
    "class Data:\n",
    "    def __init__(self,__amt):\n",
    "        self.__amt = __amt\n",
    "        print(self.__amt)\n",
    "\n",
    "obj=Data(12)\n",
    "# print(obj.__amt) (cant change the value of protected variables)\n",
    "\n",
    "#public variable\n",
    "class Data1:\n",
    "    def __init__(self,name):\n",
    "        self.name=name\n",
    "        print(self.name)\n",
    "\n",
    "obj=Data1(\"ABC\")\n",
    "obj.name=\"XYZ\"\n",
    "print(obj.name)\n",
    "\n",
    "# protected variables\n",
    "class Data2:\n",
    "    def __init__(self,_name):\n",
    "        self._name = _name\n",
    "        print(self._name)\n",
    "\n",
    "obj = Data2(\"PQR\")\n",
    "print(\"outside of the class\",obj._name)"
   ]
  },
  {
   "cell_type": "code",
   "execution_count": 13,
   "id": "090f3d80-1465-474f-bb99-21e55add7c59",
   "metadata": {
    "scrolled": true
   },
   "outputs": [
    {
     "name": "stdout",
     "output_type": "stream",
     "text": [
      "30\n"
     ]
    }
   ],
   "source": [
    "#private with inheritance\n",
    "class A:\n",
    "    def __init__(self,__amt):\n",
    "        self.__amt=__amt\n",
    "    def show1(self):\n",
    "        print(self.__amt)\n",
    "\n",
    "class B(A):\n",
    "    def show(self):\n",
    "        print(self.__amt)\n",
    "\n",
    "obj = B(30)\n",
    "obj.show1()\n",
    "# obj.show() (cant be print in inherited class also)"
   ]
  },
  {
   "cell_type": "code",
   "execution_count": 14,
   "id": "d1b87fae-7ea2-43f4-ace7-92f6727df486",
   "metadata": {
    "scrolled": true
   },
   "outputs": [
    {
     "name": "stdout",
     "output_type": "stream",
     "text": [
      "30\n"
     ]
    }
   ],
   "source": [
    "#accessing private variables outside of the class\n",
    "class A:\n",
    "    def __init__(self,__amt):\n",
    "        self.__amt=__amt\n",
    "\n",
    "obj = A(30)\n",
    "print(obj._A__amt)"
   ]
  },
  {
   "cell_type": "code",
   "execution_count": 16,
   "id": "abddeb13-ab95-4cf6-85a5-aaa1c1b64614",
   "metadata": {},
   "outputs": [
    {
     "name": "stdout",
     "output_type": "stream",
     "text": [
      "This is a private method..\n",
      "Private\n"
     ]
    }
   ],
   "source": [
    "#private method\n",
    "\n",
    "class A:\n",
    "    def __init__(self,name):\n",
    "        self.name = name\n",
    "        print(self.name)\n",
    "    def __show():\n",
    "        print(\"This is a private method..\")\n",
    "    __show()\n",
    "\n",
    "obj = A(\"Private\")\n",
    "# obj.__show() (cant be accessed outside the class)"
   ]
  },
  {
   "cell_type": "code",
   "execution_count": 20,
   "id": "9dc057c0-106d-4ca3-bc9d-6408ba35e7c8",
   "metadata": {},
   "outputs": [
    {
     "name": "stdout",
     "output_type": "stream",
     "text": [
      "Working\n",
      "This is a private method\n"
     ]
    }
   ],
   "source": [
    "#calling private method into another method \n",
    "class A:\n",
    "    def __show(self):\n",
    "        print(\"This is a private method\")\n",
    "    def call(self):\n",
    "        print(\"Working\")\n",
    "        self.__show()\n",
    "\n",
    "obj = A()\n",
    "obj.call()    "
   ]
  },
  {
   "cell_type": "code",
   "execution_count": 22,
   "id": "22bce44f-6112-48ee-8c51-c59e4037639d",
   "metadata": {
    "scrolled": true
   },
   "outputs": [
    {
     "name": "stdout",
     "output_type": "stream",
     "text": [
      "Calling private method outsie of the class\n"
     ]
    }
   ],
   "source": [
    "class A:\n",
    "    def __show(self):\n",
    "        print(\"Calling private method outsie of the class\")\n",
    "\n",
    "obj = A()\n",
    "obj._A__show()"
   ]
  },
  {
   "cell_type": "code",
   "execution_count": null,
   "id": "e00a0b7c-d5a2-485b-959f-569a237861e6",
   "metadata": {},
   "outputs": [],
   "source": [
    "#polymorphism\n"
   ]
  }
 ],
 "metadata": {
  "kernelspec": {
   "display_name": "Python 3 (ipykernel)",
   "language": "python",
   "name": "python3"
  },
  "language_info": {
   "codemirror_mode": {
    "name": "ipython",
    "version": 3
   },
   "file_extension": ".py",
   "mimetype": "text/x-python",
   "name": "python",
   "nbconvert_exporter": "python",
   "pygments_lexer": "ipython3",
   "version": "3.12.4"
  }
 },
 "nbformat": 4,
 "nbformat_minor": 5
}
