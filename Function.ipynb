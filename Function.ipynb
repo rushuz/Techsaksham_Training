{
 "cells": [
  {
   "cell_type": "code",
   "execution_count": 1,
   "id": "8a0d6f8e-964c-47c2-8237-51b62e8c4d27",
   "metadata": {},
   "outputs": [
    {
     "name": "stdin",
     "output_type": "stream",
     "text": [
      "Enter your name:  Rushabh\n"
     ]
    },
    {
     "name": "stdout",
     "output_type": "stream",
     "text": [
      "Welcome to smartKitchen Rushabh\n",
      "What are you looking for: \n",
      "{'Veg foods': ['panner butter/200rs', 'panner tikka/220rs', 'kaju paneer/240rs'], 'Non-veg foods': ['chicken masala/300rs', 'anda bhurji/150rs', 'mutton chap/250rs'], 'Chinese': ['manchurian/100rs', 'chaap/120rs', 'noodles/140rs']}\n"
     ]
    },
    {
     "name": "stdin",
     "output_type": "stream",
     "text": [
      "Select one of the above category:  Veg foods\n"
     ]
    },
    {
     "name": "stdout",
     "output_type": "stream",
     "text": [
      "thank you for selecting Veg foods\n",
      "panner butter/200rs, to order - press 0\n",
      "thank you for selecting Veg foods\n",
      "panner tikka/220rs, to order - press 1\n",
      "thank you for selecting Veg foods\n",
      "kaju paneer/240rs, to order - press 2\n"
     ]
    },
    {
     "name": "stdin",
     "output_type": "stream",
     "text": [
      "Enter the order number to order food you want:  2\n"
     ]
    },
    {
     "name": "stdout",
     "output_type": "stream",
     "text": [
      "your order is placed successfully\n",
      "kaju paneer/240rs\n"
     ]
    }
   ],
   "source": [
    "name=input(\"Enter your name: \")\n",
    "print(f\"Welcome to smartKitchen {name}\")\n",
    "print(\"What are you looking for: \")\n",
    "category={'Veg foods':['panner butter/200rs','panner tikka/220rs','kaju paneer/240rs'],\n",
    "          'Non-veg foods':['chicken masala/300rs','anda bhurji/150rs','mutton chap/250rs'],\n",
    "          'Chinese':['manchurian/100rs','chaap/120rs','noodles/140rs']}\n",
    "print(category)\n",
    "type=input(\"Select one of the above category: \")\n",
    "c=0\n",
    "if type not in category:\n",
    "    print(\"Select a valid food course\")\n",
    "for i in category[type]:\n",
    "    print(f\"thank you for selecting {type}\")\n",
    "    print(f\"{i}, to order - press {c}\")\n",
    "    c+=1\n",
    "order=int(input(\"Enter the order number to order food you want: \"))\n",
    "print(\"your order is placed successfully\")\n",
    "print(category[type][order])\n",
    "\n"
   ]
  },
  {
   "cell_type": "code",
   "execution_count": null,
   "id": "b8bdfa96-2e2b-493f-b7ad-0b48a93ad16c",
   "metadata": {},
   "outputs": [],
   "source": [
    "# Function is a block of code write once and use it multiple times\n",
    "\n",
    "# def Name():\n",
    "#     expression\n",
    "# types of user defined functions: simple(without parameter)\n",
    "#                                  parameter(positional argument,keyword argument)\n",
    "#                                  arbitraroty a.variable length b.keyword variablelength\n",
    "#                                  lambda function \n",
    "#                                  recurtion function\n",
    "#                                  generator function"
   ]
  },
  {
   "cell_type": "code",
   "execution_count": 17,
   "id": "e4afcb55-6dd8-4422-a62a-53820de3817d",
   "metadata": {},
   "outputs": [
    {
     "name": "stdout",
     "output_type": "stream",
     "text": [
      "this is a simple fuction\n",
      "My name is Rushabh, my age is 21 and I live in Solapur\n",
      "My name is Rushabh, my age is 21 and I live in Solapur\n",
      "My name is Rushabh, my age is 21 and I live in Solapur\n",
      "9\n"
     ]
    }
   ],
   "source": [
    "#Simple function\n",
    "def Data():\n",
    "    print(\"this is a simple fuction\")\n",
    "Data()\n",
    "\n",
    "#Function with positional arguments\n",
    "def Data(name,age,city):\n",
    "    print(f\"My name is {name}, my age is {age} and I live in {city}\")\n",
    "Data(\"Rushabh\",21,\"Solapur\")\n",
    "\n",
    "#Function with keywords arguments\n",
    "def Data(name,age,city):\n",
    "    print(f\"My name is {name}, my age is {age} and I live in {city}\")\n",
    "Data(age=21,city='Solapur',name='Rushabh')\n",
    "\n",
    "#Default Parameter function\n",
    "def Data(name,age,city=\"Solapur\"):\n",
    "    print(f\"My name is {name}, my age is {age} and I live in {city}\")\n",
    "Data(\"Rushabh\",21)\n",
    "\n",
    "#Variable length function\n",
    "# def Add(*arg):\n",
    "#     print(arg)\n",
    "#     print(type(arg))\n",
    "# Add(1,2,3,4,5,6)\n",
    "\n",
    "#Keyword arg variable length function\n",
    "# def Add(**arg):\n",
    "#     print(arg)\n",
    "#     print(type(arg))\n",
    "# Add(a=1,b=2,c=3,d=4,e=5,f=6,g=7)\n",
    "\n",
    "#Length\n",
    "def length(a):\n",
    "    count=0\n",
    "    for i in a:\n",
    "        count+=1\n",
    "    return count\n",
    "b=[1,2,3,4,5,6,7,8,9]\n",
    "print(length(b))"
   ]
  },
  {
   "cell_type": "code",
   "execution_count": 30,
   "id": "24d3962a-0c95-41b0-9ef1-d404a9b8b5ec",
   "metadata": {},
   "outputs": [
    {
     "name": "stdout",
     "output_type": "stream",
     "text": [
      " ABCDEFGHIJKLMNOPQRSTUVWXYZ\n"
     ]
    }
   ],
   "source": [
    "# Upper_case\n",
    "def upperCase(a):\n",
    "    s=\"\"\n",
    "    for i in a:\n",
    "        if i !=\" \":\n",
    "            if ord(i)>90:\n",
    "                d=(ord(i)-32)\n",
    "                s=s+(chr(d))\n",
    "            else:\n",
    "                s=s+i\n",
    "        else:\n",
    "            s=s+\" \"\n",
    "    return s\n",
    "a=\"abcdefghijklmnopqrstuvwxyz\"\n",
    "print(\"\",upperCase(a))"
   ]
  },
  {
   "cell_type": "code",
   "execution_count": 33,
   "id": "1f057433-c595-4af8-8dde-ba4d604fe564",
   "metadata": {},
   "outputs": [
    {
     "name": "stdout",
     "output_type": "stream",
     "text": [
      " abcdefghijklmnopqrstuvwxyz\n"
     ]
    }
   ],
   "source": [
    "#lowerCase\n",
    "def lowerCase(a):\n",
    "    s=\"\"\n",
    "    for i in a:\n",
    "        if i !=\" \":\n",
    "            if ord(i)<=90 and ord(i)>=65:\n",
    "                d=(ord(i)+32)\n",
    "                s=s+(chr(d))\n",
    "            else:\n",
    "                s=s+i\n",
    "        else:\n",
    "            s=s+\" \"\n",
    "    return s\n",
    "a=\"ABCDEFGHIJKLMNOPQRSTUVWXYZ\"\n",
    "print(\"\",lowerCase(a))"
   ]
  },
  {
   "cell_type": "code",
   "execution_count": 38,
   "id": "0f974da6-8b13-4bc9-9e00-6b5882bbfbea",
   "metadata": {},
   "outputs": [
    {
     "name": "stdout",
     "output_type": "stream",
     "text": [
      "1\n",
      "2\n",
      "3\n",
      "4\n",
      "5\n",
      "6\n",
      "7\n",
      "8\n",
      "9\n",
      "10\n"
     ]
    }
   ],
   "source": [
    "#1 to 10 \n",
    "#Recurssion function\n",
    "def numbers(n):\n",
    "    print(n)\n",
    "    n+=1\n",
    "    if n <=10:\n",
    "        return numbers(n)\n",
    "numbers(1)"
   ]
  },
  {
   "cell_type": "code",
   "execution_count": 41,
   "id": "5c00645c-922d-414e-aaa7-3b8fb183ee1e",
   "metadata": {},
   "outputs": [
    {
     "name": "stdout",
     "output_type": "stream",
     "text": [
      "1*1=1 1*2=2 1*3=3 1*4=4 1*5=5 1*6=6 1*7=7 1*8=8 1*9=9 1*10=10 \n",
      "2*1=2 2*2=4 2*3=6 2*4=8 2*5=10 2*6=12 2*7=14 2*8=16 2*9=18 2*10=20 \n",
      "3*1=3 3*2=6 3*3=9 3*4=12 3*5=15 3*6=18 3*7=21 3*8=24 3*9=27 3*10=30 \n",
      "4*1=4 4*2=8 4*3=12 4*4=16 4*5=20 4*6=24 4*7=28 4*8=32 4*9=36 4*10=40 \n",
      "5*1=5 5*2=10 5*3=15 5*4=20 5*5=25 5*6=30 5*7=35 5*8=40 5*9=45 5*10=50 \n",
      "6*1=6 6*2=12 6*3=18 6*4=24 6*5=30 6*6=36 6*7=42 6*8=48 6*9=54 6*10=60 \n",
      "7*1=7 7*2=14 7*3=21 7*4=28 7*5=35 7*6=42 7*7=49 7*8=56 7*9=63 7*10=70 \n",
      "8*1=8 8*2=16 8*3=24 8*4=32 8*5=40 8*6=48 8*7=56 8*8=64 8*9=72 8*10=80 \n",
      "9*1=9 9*2=18 9*3=27 9*4=36 9*5=45 9*6=54 9*7=63 9*8=72 9*9=81 9*10=90 \n",
      "10*1=10 10*2=20 10*3=30 10*4=40 10*5=50 10*6=60 10*7=70 10*8=80 10*9=90 10*10=100 \n"
     ]
    }
   ],
   "source": [
    "#tables 1 to 10\n",
    "def outer(n1):\n",
    "    def inner(n2):\n",
    "        print(f\"{n1}*{n2}={n1*n2}\",end=\" \")\n",
    "        n2+=1\n",
    "        if n2<=10:\n",
    "            return inner(n2)\n",
    "    inner(1)\n",
    "    print()\n",
    "    n1+=1\n",
    "    if n1<=10:\n",
    "        return outer(n1)\n",
    "outer(1)\n",
    "    "
   ]
  },
  {
   "cell_type": "code",
   "execution_count": 54,
   "id": "45ce9f8c-c5aa-4c91-9862-6da5a1c20786",
   "metadata": {},
   "outputs": [
    {
     "name": "stdout",
     "output_type": "stream",
     "text": [
      "[4, 16, 36]\n"
     ]
    }
   ],
   "source": [
    "#Square\n",
    "def square(a):\n",
    "    b=[]\n",
    "    for i in a:\n",
    "        b.append(i**2)\n",
    "    return b\n",
    "a=[2,4,6]\n",
    "print(square(a))"
   ]
  },
  {
   "cell_type": "code",
   "execution_count": 57,
   "id": "34453205-847b-40cf-aa67-c7837f5b9a10",
   "metadata": {},
   "outputs": [
    {
     "name": "stdout",
     "output_type": "stream",
     "text": [
      "3\n",
      "9\n"
     ]
    }
   ],
   "source": [
    "#Lambda function/Ananomous function\n",
    "# a = lambda parameters : expression\n",
    "a = lambda a,b : a+b\n",
    "print(a(1,2))\n",
    "\n",
    "b = lambda a,b : b**2\n",
    "print(b(0,3))"
   ]
  },
  {
   "cell_type": "code",
   "execution_count": 62,
   "id": "492311e2-0f03-420c-90bf-67625cf78560",
   "metadata": {},
   "outputs": [
    {
     "name": "stdout",
     "output_type": "stream",
     "text": [
      "12\n",
      "13\n",
      "33\n"
     ]
    }
   ],
   "source": [
    "#generator function \n",
    "def Abc():\n",
    "    yield 12\n",
    "    yield 13\n",
    "    yield 33\n",
    "a=Abc()\n",
    "print(next(a))\n",
    "print(next(a))\n",
    "print(next(a))"
   ]
  },
  {
   "cell_type": "code",
   "execution_count": null,
   "id": "55115224-5ff0-4ac8-a200-9980e946b919",
   "metadata": {},
   "outputs": [],
   "source": []
  }
 ],
 "metadata": {
  "kernelspec": {
   "display_name": "Python 3 (ipykernel)",
   "language": "python",
   "name": "python3"
  },
  "language_info": {
   "codemirror_mode": {
    "name": "ipython",
    "version": 3
   },
   "file_extension": ".py",
   "mimetype": "text/x-python",
   "name": "python",
   "nbconvert_exporter": "python",
   "pygments_lexer": "ipython3",
   "version": "3.12.4"
  }
 },
 "nbformat": 4,
 "nbformat_minor": 5
}
