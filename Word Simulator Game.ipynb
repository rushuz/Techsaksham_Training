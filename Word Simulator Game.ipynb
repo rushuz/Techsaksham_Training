{
 "cells": [
  {
   "cell_type": "code",
   "execution_count": 1,
   "id": "0f104124-3735-4703-a100-cdc9357464b6",
   "metadata": {},
   "outputs": [
    {
     "name": "stdin",
     "output_type": "stream",
     "text": [
      "Enter the num:  1221\n"
     ]
    },
    {
     "name": "stdout",
     "output_type": "stream",
     "text": [
      "The reverse of 1221 is 1221\n",
      "Hence 1221 is a palindrome\n"
     ]
    }
   ],
   "source": [
    "#palindrome\n",
    "n=int(input(\"Enter the num: \"))\n",
    "reverse = 0\n",
    "org=n\n",
    "    \n",
    "while n > 0:\n",
    "    digit = n % 10\n",
    "    reverse = reverse * 10 + digit\n",
    "    n //= 10\n",
    "print(f\"The reverse of {org} is {reverse}\")\n",
    "if reverse == org:\n",
    "    print(f\"Hence {org} is a palindrome\")\n",
    "else:\n",
    "    print(f\"Hence {org} Not a palindrome\")\n"
   ]
  },
  {
   "cell_type": "code",
   "execution_count": 2,
   "id": "ad7b9015-0ef3-4b7c-ae0e-fc2a33055d21",
   "metadata": {},
   "outputs": [
    {
     "name": "stdin",
     "output_type": "stream",
     "text": [
      "Enter value 153\n"
     ]
    },
    {
     "name": "stdout",
     "output_type": "stream",
     "text": [
      "sum of cubes of 153 is 153\n",
      "Hence 153 is armstrong no\n"
     ]
    }
   ],
   "source": [
    "#amngstrong number\n",
    "n=int(input(\"Enter value\"))\n",
    "org=n\n",
    "arm=0\n",
    "while n>0:\n",
    "    d=n%10\n",
    "    arm=arm+(d**3)\n",
    "    n=n//10\n",
    "print(f\"sum of cubes of {org} is {arm}\")\n",
    "if arm==org:\n",
    "    print(f\"Hence {org} is armstrong no\")\n",
    "else:\n",
    "    print(f\"Hence {org} is not an armstrong no\")\n"
   ]
  },
  {
   "cell_type": "code",
   "execution_count": 3,
   "id": "268da702-f207-4cf6-99ac-8d85dccfdf65",
   "metadata": {},
   "outputs": [
    {
     "name": "stdin",
     "output_type": "stream",
     "text": [
      "Enter a number:  7\n"
     ]
    },
    {
     "name": "stdout",
     "output_type": "stream",
     "text": [
      " 7 is a prime no.\n"
     ]
    }
   ],
   "source": [
    "#prime number\n",
    "n = int(input(\"Enter a number: \"))\n",
    "i=2\n",
    "\n",
    "while i < n:\n",
    "    r=n%i\n",
    "    if r==0:\n",
    "        print(f\" {n} is not a prime no.\")\n",
    "        break\n",
    "    i+=1\n",
    "if n==i:\n",
    "    print(f\" {n} is a prime no.\")   "
   ]
  },
  {
   "cell_type": "code",
   "execution_count": 4,
   "id": "f7e6d35f-0db0-487f-bea0-26eefa7e5054",
   "metadata": {},
   "outputs": [
    {
     "name": "stdout",
     "output_type": "stream",
     "text": [
      "[2, 3, 5, 7, 11, 13, 17, 19, 23, 29, 31, 37, 41, 43, 47, 53, 59, 61, 67, 71, 73, 79, 83, 89, 97]\n",
      "[4, 6, 8, 9, 10, 12, 14, 15, 16, 18, 20, 21, 22, 24, 25, 26, 27, 28, 30, 32, 33, 34, 35, 36, 38, 39, 40, 42, 44, 45, 46, 48, 49, 50, 51, 52, 54, 55, 56, 57, 58, 60, 62, 63, 64, 65, 66, 68, 69, 70, 72, 74, 75, 76, 77, 78, 80, 81, 82, 84, 85, 86, 87, 88, 90, 91, 92, 93, 94, 95, 96, 98, 99, 100]\n"
     ]
    }
   ],
   "source": [
    "#prime number 1 to 100\n",
    "n=1\n",
    "lt=[]\n",
    "nlt=[]\n",
    "while n<=100:\n",
    "    i=2\n",
    "    while i < n:\n",
    "        r=n%i\n",
    "        if r==0:\n",
    "            nlt.append(n)\n",
    "            break\n",
    "        i+=1\n",
    "    if n==i:\n",
    "        lt.append(i)\n",
    "    n+=1\n",
    "print(lt)\n",
    "print(nlt)"
   ]
  },
  {
   "cell_type": "code",
   "execution_count": 5,
   "id": "99241ccd-dc55-460c-bf44-19e807cbf79f",
   "metadata": {},
   "outputs": [
    {
     "name": "stdout",
     "output_type": "stream",
     "text": [
      "[2, 4, 6, 8, 10, 12, 14, 16, 18, 20, 22, 24, 26, 28, 30, 32, 34, 36, 38, 40, 42, 44, 46, 48, 50, 52, 54, 56, 58, 60, 62, 64, 66, 68, 70, 72, 74, 76, 78, 80, 82, 84, 86, 88, 90, 92, 94, 96, 98, 100]\n"
     ]
    }
   ],
   "source": [
    "#1 to 100 all even in 2 lines\n",
    "#list comprehension\n",
    "a=[i for i in range(2,101,2)]\n",
    "print(a)"
   ]
  },
  {
   "cell_type": "code",
   "execution_count": 6,
   "id": "60a2f7c2-9f00-4c28-9f26-d14b5a83c73f",
   "metadata": {},
   "outputs": [
    {
     "name": "stdout",
     "output_type": "stream",
     "text": [
      "b\n"
     ]
    }
   ],
   "source": [
    "import random\n",
    "a=['a','b','c','d']\n",
    "print(random.choice(a))"
   ]
  },
  {
   "cell_type": "code",
   "execution_count": 1,
   "id": "3020bcd3-f3cc-48c9-8e08-b4028d7b5c52",
   "metadata": {},
   "outputs": [
    {
     "name": "stdin",
     "output_type": "stream",
     "text": [
      "Enter your name:  Rushabh\n"
     ]
    },
    {
     "name": "stdout",
     "output_type": "stream",
     "text": [
      "Welcome Rushabh\n",
      "Give a Word simulator for: act\n"
     ]
    },
    {
     "name": "stdin",
     "output_type": "stream",
     "text": [
      "Enter the write choice or enter quit to quit:  cat\n"
     ]
    },
    {
     "name": "stdout",
     "output_type": "stream",
     "text": [
      "Correct word\n",
      "Your score becomes 3\n",
      "Give a Word simulator for: act\n"
     ]
    },
    {
     "name": "stdin",
     "output_type": "stream",
     "text": [
      "Enter the write choice or enter quit to quit:  cat\n"
     ]
    },
    {
     "name": "stdout",
     "output_type": "stream",
     "text": [
      "Correct word\n",
      "Your score becomes 6\n",
      "Give a Word simulator for: cat\n"
     ]
    },
    {
     "name": "stdin",
     "output_type": "stream",
     "text": [
      "Enter the write choice or enter quit to quit:  act\n"
     ]
    },
    {
     "name": "stdout",
     "output_type": "stream",
     "text": [
      "Correct word\n",
      "Your score becomes 9\n",
      "Give a Word simulator for: art\n"
     ]
    },
    {
     "name": "stdin",
     "output_type": "stream",
     "text": [
      "Enter the write choice or enter quit to quit:  rat\n"
     ]
    },
    {
     "name": "stdout",
     "output_type": "stream",
     "text": [
      "Correct word\n",
      "Your score becomes 12\n",
      "Give a Word simulator for: ten\n"
     ]
    },
    {
     "name": "stdin",
     "output_type": "stream",
     "text": [
      "Enter the write choice or enter quit to quit:  ten\n"
     ]
    },
    {
     "name": "stdout",
     "output_type": "stream",
     "text": [
      "huh..there's no score for same word\n",
      "Give a Word simulator for: net\n"
     ]
    },
    {
     "name": "stdin",
     "output_type": "stream",
     "text": [
      "Enter the write choice or enter quit to quit:  etn\n"
     ]
    },
    {
     "name": "stdout",
     "output_type": "stream",
     "text": [
      "INcorrect order\n",
      "Your score is deduced to 9\n",
      "Give a Word simulator for: art\n"
     ]
    },
    {
     "name": "stdin",
     "output_type": "stream",
     "text": [
      "Enter the write choice or enter quit to quit:  quit\n"
     ]
    },
    {
     "name": "stdout",
     "output_type": "stream",
     "text": [
      "Thanks for playing Rushabh\n"
     ]
    }
   ],
   "source": [
    "#word simulator\n",
    "name=input(\"Enter your name: \")\n",
    "print(f\"Welcome {name}\")\n",
    "import random\n",
    "score=0\n",
    "c=0\n",
    "data = ['cat','act','rat','art','tab','bat','net','ten']\n",
    "while True:\n",
    "    letters = list(random.choice(data))\n",
    "    genw=(\"\".join(letters))\n",
    "    print(f\"Give a Word simulator for: {genw}\")\n",
    "    user_word=input(\"Enter the write choice or enter quit to quit: \")\n",
    "    if user_word==\"quit\":\n",
    "        print(f\"Thanks for playing {name}\") \n",
    "        break\n",
    "    if user_word != genw:       \n",
    "        L=True\n",
    "        for letter in user_word:\n",
    "            if letter in letters:\n",
    "                letters.remove(letter)\n",
    "            else:\n",
    "                L=False\n",
    "        if L and user_word in data:\n",
    "            score+=3\n",
    "            print(\"Correct word\")\n",
    "            print(f\"Your score becomes {score}\")\n",
    "        else:\n",
    "            score-=3\n",
    "            print(\"INcorrect order\")\n",
    "            print(f\"Your score is deduced to {score}\")\n",
    "    else:\n",
    "        print(\"huh..there's no score for same word\")\n",
    "        c+=1\n",
    "        if c==3:\n",
    "            score-=3\n",
    "            print(f\"no no no enter some different word the score is reduced to {score}\")\n"
   ]
  },
  {
   "cell_type": "code",
   "execution_count": 27,
   "id": "1d8b2721-a6e2-4539-80cb-492459d96d5c",
   "metadata": {},
   "outputs": [
    {
     "name": "stdout",
     "output_type": "stream",
     "text": [
      "      a \n",
      "    b b b \n",
      "  c c c c c \n",
      "d d d d d d d \n"
     ]
    }
   ],
   "source": [
    "#       a \n",
    "#     b b b\n",
    "#   c c c c c\n",
    "# d d d d d d d\n",
    "row=1\n",
    "while row<=4:\n",
    "    col=1\n",
    "    while col<=4-row:\n",
    "        print(\" \",end=\" \")\n",
    "        col+=1\n",
    "    col=1\n",
    "    while col<(2*row):\n",
    "        print(chr(96+row),end=\" \")\n",
    "        col+=1\n",
    "    row+=1\n",
    "    print()\n",
    "        "
   ]
  },
  {
   "cell_type": "code",
   "execution_count": 36,
   "id": "fb0eb894-935f-413d-a66c-01f84fb64b90",
   "metadata": {},
   "outputs": [
    {
     "name": "stdout",
     "output_type": "stream",
     "text": [
      "      a \n",
      "    a b c \n",
      "  a b c d e \n",
      "a b c d e f g \n"
     ]
    }
   ],
   "source": [
    "#       a\n",
    "#     a b c\n",
    "#   a b c d e\n",
    "# a b c d e f g\n",
    "row=1\n",
    "while row<=4:\n",
    "    col=1\n",
    "    while col<=4-row:\n",
    "        print(\" \",end=\" \")\n",
    "        col+=1\n",
    "    x=97\n",
    "    col=1\n",
    "    while col<(2*row):\n",
    "        print(chr(x),end=\" \")\n",
    "        col+=1\n",
    "        x+=1\n",
    "    row+=1\n",
    "    print()"
   ]
  },
  {
   "cell_type": "code",
   "execution_count": 37,
   "id": "529c95a8-5702-4b73-89a3-7395f5c4644d",
   "metadata": {},
   "outputs": [
    {
     "name": "stdout",
     "output_type": "stream",
     "text": [
      "      a \n",
      "    a b c \n",
      "  a b c d e \n",
      "a b c d e f g \n"
     ]
    }
   ],
   "source": [
    "#alternative\n",
    "row=1\n",
    "while row<=4:\n",
    "    col=1\n",
    "    while col<=4-row:\n",
    "        print(\" \",end=\" \")\n",
    "        col+=1\n",
    "    col=1\n",
    "    while col<(2*row):\n",
    "        print(chr(96+col),end=\" \")\n",
    "        col+=1\n",
    "    row+=1\n",
    "    print()"
   ]
  },
  {
   "cell_type": "code",
   "execution_count": null,
   "id": "d8944237-1fff-40aa-97ee-20869e68a269",
   "metadata": {},
   "outputs": [],
   "source": []
  }
 ],
 "metadata": {
  "kernelspec": {
   "display_name": "Python 3 (ipykernel)",
   "language": "python",
   "name": "python3"
  },
  "language_info": {
   "codemirror_mode": {
    "name": "ipython",
    "version": 3
   },
   "file_extension": ".py",
   "mimetype": "text/x-python",
   "name": "python",
   "nbconvert_exporter": "python",
   "pygments_lexer": "ipython3",
   "version": "3.12.4"
  }
 },
 "nbformat": 4,
 "nbformat_minor": 5
}
