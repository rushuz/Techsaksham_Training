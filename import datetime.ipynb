{
 "cells": [
  {
   "cell_type": "code",
   "execution_count": 1,
   "id": "1175ba3a-ea41-454e-b631-595a82933b09",
   "metadata": {},
   "outputs": [
    {
     "name": "stdout",
     "output_type": "stream",
     "text": [
      "2025-02-18 10:12:10.416824\n",
      "2025\n"
     ]
    }
   ],
   "source": [
    "#import datetime\n",
    "from datetime import datetime\n",
    "now = datetime.now()\n",
    "print(now)\n",
    "print(now.year)"
   ]
  },
  {
   "cell_type": "code",
   "execution_count": 13,
   "id": "b627cbd4-8628-4875-bbc5-b70044adc502",
   "metadata": {},
   "outputs": [
    {
     "name": "stdout",
     "output_type": "stream",
     "text": [
      "18/Feb/2025\n",
      "18/February/2025\n",
      "February/2025, 18, 10:31:39\n",
      "February/2025, 18, 10:31:39\n",
      "10 days, 0:00:00\n",
      "28 days, 0:00:00\n"
     ]
    }
   ],
   "source": [
    "from datetime import timedelta,date,time\n",
    "d=date.today()\n",
    "print(d.strftime('%d/%b/%Y'))\n",
    "print(d.strftime('%d/%B/%Y'))\n",
    "\n",
    "now = datetime.now()\n",
    "print(now.strftime('%B/%Y, %d, %H:%M:%S'))\n",
    "print(now.strftime('%B/%Y, %d, %I:%M:%S'))\n",
    "\n",
    "a= timedelta(days=10)\n",
    "b= timedelta(now.day)\n",
    "print(a)\n",
    "print(a+b)"
   ]
  },
  {
   "cell_type": "code",
   "execution_count": null,
   "id": "257186ad-7e82-410d-928a-68d9db704e34",
   "metadata": {},
   "outputs": [],
   "source": []
  },
  {
   "cell_type": "code",
   "execution_count": null,
   "id": "0b7f8a3d-e228-4ee3-8d81-b0e8da0a87df",
   "metadata": {},
   "outputs": [],
   "source": []
  }
 ],
 "metadata": {
  "kernelspec": {
   "display_name": "Python 3 (ipykernel)",
   "language": "python",
   "name": "python3"
  },
  "language_info": {
   "codemirror_mode": {
    "name": "ipython",
    "version": 3
   },
   "file_extension": ".py",
   "mimetype": "text/x-python",
   "name": "python",
   "nbconvert_exporter": "python",
   "pygments_lexer": "ipython3",
   "version": "3.12.4"
  }
 },
 "nbformat": 4,
 "nbformat_minor": 5
}
