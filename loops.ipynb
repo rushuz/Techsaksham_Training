{
 "cells": [
  {
   "cell_type": "code",
   "execution_count": 1,
   "id": "ef2deecf-66fc-4b72-9139-c037626a585e",
   "metadata": {},
   "outputs": [
    {
     "name": "stdout",
     "output_type": "stream",
     "text": [
      "2004\n",
      "dict_keys(['name', 'age'])\n",
      "dict_items([('name', 'Rushabh'), ('age', '21')])\n"
     ]
    }
   ],
   "source": [
    "#dictionaries\n",
    "a={'name':'Rushabh','age':'21','year':'2004'}\n",
    "print(a.pop('year'))\n",
    "print(a.keys())\n",
    "print(a.items())"
   ]
  },
  {
   "cell_type": "code",
   "execution_count": 2,
   "id": "b9115c79-260d-432b-a850-3d0f7b22be51",
   "metadata": {},
   "outputs": [
    {
     "name": "stdout",
     "output_type": "stream",
     "text": [
      "{'abc', 1, 'xyz'}\n"
     ]
    }
   ],
   "source": [
    "#set\n",
    "a={\"abc\",1,\"xyz\"}\n",
    "print(a)"
   ]
  },
  {
   "cell_type": "code",
   "execution_count": 3,
   "id": "ea603497-c4b5-41cd-a04e-8fc92f9a59ff",
   "metadata": {},
   "outputs": [
    {
     "name": "stdout",
     "output_type": "stream",
     "text": [
      "1\n",
      "2\n",
      "3\n",
      "4\n",
      "5\n",
      "6\n",
      "7\n",
      "8\n",
      "9\n",
      "10\n",
      "1\n",
      "2\n",
      "3\n",
      "4\n",
      "5\n",
      "6\n",
      "7\n",
      "8\n",
      "9\n",
      "10\n"
     ]
    }
   ],
   "source": [
    "#while loop\n",
    "i=1\n",
    "while i<=10:\n",
    "    print(i)\n",
    "    i+=1\n",
    "#for loop\n",
    "for i in range(1,11,1):\n",
    "    print(i)"
   ]
  },
  {
   "cell_type": "code",
   "execution_count": 4,
   "id": "dbced30b-95d1-4561-bc01-3b0c06548f43",
   "metadata": {},
   "outputs": [
    {
     "ename": "SyntaxError",
     "evalue": "invalid syntax (12534348.py, line 5)",
     "output_type": "error",
     "traceback": [
      "\u001b[1;36m  Cell \u001b[1;32mIn[4], line 5\u001b[1;36m\u001b[0m\n\u001b[1;33m    b[]\u001b[0m\n\u001b[1;37m      ^\u001b[0m\n\u001b[1;31mSyntaxError\u001b[0m\u001b[1;31m:\u001b[0m invalid syntax\n"
     ]
    }
   ],
   "source": [
    "#output = [2,4,6,8,10]\n",
    "# for a in range(1,11,2):\n",
    "#     print(a+1)\n",
    "a=[1,2,3,4,5,6,7,8,9,10]\n",
    "b[]\n",
    "while :\n",
    "    \n",
    "    print(b)"
   ]
  },
  {
   "cell_type": "code",
   "execution_count": 5,
   "id": "1ebdf064-a6bd-4246-bc50-e3ee9fc8e468",
   "metadata": {},
   "outputs": [
    {
     "name": "stdout",
     "output_type": "stream",
     "text": [
      "[2, 4, 6, 8, 10, 56, 58]\n"
     ]
    }
   ],
   "source": [
    "a=[1,2,3,4,5,6,7,8,9,10,55,56,57,58]\n",
    "b=[]\n",
    "for i in range(len(a)):\n",
    "    if a[i]%2==0:\n",
    "        b.append(a[i])\n",
    "print(b)"
   ]
  },
  {
   "cell_type": "code",
   "execution_count": 6,
   "id": "ed6b9159-651c-4b3b-8470-fcd181b1ac46",
   "metadata": {},
   "outputs": [
    {
     "name": "stdout",
     "output_type": "stream",
     "text": [
      "[66, 22, 20, 18, 5, 4, 3, 2, 1]\n"
     ]
    }
   ],
   "source": [
    "a=[18,20,2,3,4,5,66,1,22]\n",
    "#sort without using inbuild function\n",
    "for i in range(len(a)):\n",
    "    for j in range(len(a)):\n",
    "        if a[i]>=a[j]:\n",
    "            temp = a[i]\n",
    "            a[i] = a[j]\n",
    "            a[j] = temp\n",
    "print(a)\n"
   ]
  },
  {
   "cell_type": "code",
   "execution_count": 7,
   "id": "edeeec03-766a-4484-84a7-69a726aff4b8",
   "metadata": {},
   "outputs": [
    {
     "name": "stdout",
     "output_type": "stream",
     "text": [
      "[1, 1, 2, 2, 34, 69, 77, 85, 88]\n",
      "1\n",
      "{1, 2, 34, 69, 77, 85, 88}\n"
     ]
    }
   ],
   "source": [
    "a=[88,34,1,2,2,1,85,77,69]\n",
    "a.sort()\n",
    "print(a)\n",
    "print(a[1])\n",
    "b=set(a)\n",
    "print(b)"
   ]
  },
  {
   "cell_type": "code",
   "execution_count": 8,
   "id": "8d9c08ba-200e-4c24-af6a-36b5b67c0973",
   "metadata": {},
   "outputs": [
    {
     "name": "stdout",
     "output_type": "stream",
     "text": [
      "[88, 34, 1, 2, 85, 77, 69]\n",
      "[1, 2, 34, 69, 77, 85, 88]\n",
      "85\n"
     ]
    }
   ],
   "source": [
    "#set without using set function\n",
    "a=[88,34,1,2,2,1,85,77,69]\n",
    "b=[]\n",
    "for i in a:\n",
    "    if i not in b:\n",
    "        b.append(i)\n",
    "print(b)\n",
    "b.sort()\n",
    "print(b)\n",
    "print(b[len(b)-2])"
   ]
  },
  {
   "cell_type": "code",
   "execution_count": 9,
   "id": "07958669-6784-4193-8f6e-4d7b930965da",
   "metadata": {},
   "outputs": [
    {
     "name": "stdout",
     "output_type": "stream",
     "text": [
      "A \n",
      "B B \n",
      "C C C \n",
      "D D D D \n",
      "A BB CCC DDDD "
     ]
    }
   ],
   "source": [
    "a=[\"A\",\"B\",\"C\",\"D\"]\n",
    "\"\"\"\n",
    "op\n",
    "A\n",
    "BB\n",
    "CCC\n",
    "DDDD\n",
    "\"\"\"\n",
    "for row in range(len(a)):\n",
    "    for col in range(row+1):\n",
    "        print(a[row], end=\" \")\n",
    "    print()\n",
    "#method-2\n",
    "c=1\n",
    "for i in range(len(a)):\n",
    "    print(a[i]*c,end=\" \");\n",
    "    c+=1\n",
    "    "
   ]
  },
  {
   "cell_type": "code",
   "execution_count": 11,
   "id": "4a27289e-221a-43e0-b8e7-716cfd99c377",
   "metadata": {},
   "outputs": [
    {
     "name": "stdin",
     "output_type": "stream",
     "text": [
      "Enter your seat number:  11\n",
      "Enter your user_name:  def\n"
     ]
    },
    {
     "name": "stdout",
     "output_type": "stream",
     "text": [
      "[55, 56, 57, 58, 59]\n",
      "Mathematics: 55\n",
      "Physics: 56\n",
      "Chemistry: 57\n",
      "Biology: 58\n",
      "ENglish: 59\n",
      "percentage  57.0 %\n"
     ]
    }
   ],
   "source": [
    "# Get marks by entering your seat no. and username\n",
    "seat=int(input(\"Enter your seat number: \"))\n",
    "user=input(\"Enter your user_name: \")\n",
    "seat_no=[10,11,12,13,14]\n",
    "user_name=['abc','def','ghi','jkl','mno']\n",
    "data={10:[40,41,42,43,44],11:[55,56,57,58,59],12:[50,51,52,53,54],13:[40,30,50,60,70],14:[60,61,62,63,64]}\n",
    "\n",
    "for i in range(len(seat_no)):\n",
    "    if seat_no[i]==seat and user_name[i]==user:\n",
    "        for j in data:\n",
    "            if j==seat_no[i]:\n",
    "                print(data[j])\n",
    "                print(f\"Mathematics: {data[j][0]}\")\n",
    "                print(f\"Physics: {data[j][1]}\")\n",
    "                print(f\"Chemistry: {data[j][2]}\")\n",
    "                print(f\"Biology: {data[j][3]}\")\n",
    "                print(f\"ENglish: {data[j][4]}\")\n",
    "                avg = (data[j][0] + data[j][1] + data[j][2] + data[j][3] + data[j][4])/5\n",
    "                print(\"percentage \",avg,\"%\")\n",
    "    "
   ]
  },
  {
   "cell_type": "code",
   "execution_count": null,
   "id": "6435ceb8-0f7c-48b3-bb63-3d8e9fa817c6",
   "metadata": {},
   "outputs": [],
   "source": []
  }
 ],
 "metadata": {
  "kernelspec": {
   "display_name": "Python 3 (ipykernel)",
   "language": "python",
   "name": "python3"
  },
  "language_info": {
   "codemirror_mode": {
    "name": "ipython",
    "version": 3
   },
   "file_extension": ".py",
   "mimetype": "text/x-python",
   "name": "python",
   "nbconvert_exporter": "python",
   "pygments_lexer": "ipython3",
   "version": "3.12.4"
  }
 },
 "nbformat": 4,
 "nbformat_minor": 5
}
