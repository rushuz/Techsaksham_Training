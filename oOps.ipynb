{
 "cells": [
  {
   "cell_type": "code",
   "execution_count": 7,
   "id": "de4d569a-b42e-4776-84cb-5de9682174c5",
   "metadata": {},
   "outputs": [
    {
     "name": "stdout",
     "output_type": "stream",
     "text": [
      "This is the frist class in oops\n"
     ]
    }
   ],
   "source": [
    "class first:\n",
    "    print(\"This is the frist class in oops\")\n",
    "obj = first()"
   ]
  },
  {
   "cell_type": "code",
   "execution_count": 28,
   "id": "843e85ef-b3de-4052-a7f0-d6a4b90593bf",
   "metadata": {},
   "outputs": [
    {
     "name": "stdout",
     "output_type": "stream",
     "text": [
      "frist show\n",
      "My name is Rushabh and my age is 21:\n",
      "here's my name Rushabh and my age 21\n",
      "Rushabh and 21\n"
     ]
    }
   ],
   "source": [
    "#instant method\n",
    "class Abc:\n",
    "    def show(self):\n",
    "        print('frist show')\n",
    "obj = Abc()\n",
    "obj.show()\n",
    "\n",
    "#instance method\n",
    "class xyz:\n",
    "    def data(self,name,age):\n",
    "        self.name=name\n",
    "        self.age=age\n",
    "    def show(self):\n",
    "        print(f\"My name is {self.name} and my age is {self.age}:\")\n",
    "obj = xyz()\n",
    "obj.data(\"Rushabh\",21)\n",
    "obj.show()\n",
    "\n",
    "#class method\n",
    "class file:\n",
    "    @classmethod\n",
    "    def get(cls,name,age):\n",
    "        cls.name=name\n",
    "        cls.age=age\n",
    "        print(f\"here's my name {cls.name} and my age {cls.age}\")\n",
    "file.get(\"Rushabh\",21)\n",
    "\n",
    "#static method\n",
    "class file():\n",
    "    @staticmethod\n",
    "    def set(name,age):\n",
    "        print(f\"{name} and {age}\")\n",
    "file.set(\"Rushabh\",21)"
   ]
  },
  {
   "cell_type": "code",
   "execution_count": 37,
   "id": "ed8db57d-dbc7-4404-8462-aa3b6f018562",
   "metadata": {},
   "outputs": [
    {
     "name": "stdout",
     "output_type": "stream",
     "text": [
      "this is a constructor\n",
      "here is empty memory\n",
      "i will be called after constructor\n"
     ]
    }
   ],
   "source": [
    "#constructors\n",
    "class abc :\n",
    "    def __init__(self):\n",
    "        print(\"this is a constructor\")\n",
    "    def show(self):\n",
    "        print(\"i will be called after constructor\")\n",
    "    def __del__(self):\n",
    "        print(\"here is empty memory\")\n",
    "obj = abc()\n",
    "obj.show()"
   ]
  },
  {
   "cell_type": "code",
   "execution_count": 59,
   "id": "f6fec612-b785-4c40-95d6-d496ae984a18",
   "metadata": {},
   "outputs": [
    {
     "name": "stdout",
     "output_type": "stream",
     "text": [
      "Welcome to our bank: \n"
     ]
    },
    {
     "name": "stdin",
     "output_type": "stream",
     "text": [
      "Enter your user_name:  u1\n",
      "Enter a valid pin:  1111\n"
     ]
    },
    {
     "name": "stdout",
     "output_type": "stream",
     "text": [
      "balance in your account is 10\n",
      "100 is credited in your bank account, total balance is 110\n",
      "50 is withdrawn from account, total balance is 60\n"
     ]
    }
   ],
   "source": [
    "#bank\n",
    "print(\"Welcome to our bank: \")\n",
    "users = {'u1','u2','u3','u4','u5'}\n",
    "pins = {1111, 2222, 3333, 4444, 5555}\n",
    "user_name = input(\"Enter your user_name: \")\n",
    "if user_name not in users\n",
    "pin = int(input(\"Enter a valid pin: \"))\n",
    "class bank:\n",
    "    def __init__(self,amt):\n",
    "        self.amt=amt\n",
    "        print(f\"balance in your account is {amt}\")\n",
    "    def deposite(self,depo):\n",
    "        self.amt= self.amt+depo\n",
    "        print(f\"{depo} is credited in your bank account, total balance is {self.amt}\")\n",
    "    def withdraw(self,wid):\n",
    "        self.amt=self.amt-wid\n",
    "        print(f\"{wid} is withdrawn from account, total balance is {self.amt}\")\n",
    "obj = bank(10)\n",
    "obj.deposite(100)\n",
    "obj.withdraw(50)"
   ]
  },
  {
   "cell_type": "code",
   "execution_count": 60,
   "id": "7cbe548d-61b0-4663-a376-f83001a00868",
   "metadata": {},
   "outputs": [
    {
     "name": "stdin",
     "output_type": "stream",
     "text": [
      "Enter user name: user1\n",
      "Enter the password: 123\n",
      "Enter the amount you want to deposite: 1000\n"
     ]
    },
    {
     "name": "stdout",
     "output_type": "stream",
     "text": [
      "1000 is credited in your account and the total is 1020\n",
      "name = xyz\n",
      "amt = 1020\n",
      "account_no = 123456\n",
      "10 is debited in your account and the total is 1010\n",
      "name = xyz\n",
      "amt = 1010\n",
      "account_no = 123456\n"
     ]
    }
   ],
   "source": [
    "#some more deep banking\n",
    "class Bank:\n",
    "    def __init__(self):\n",
    "        self.details={'user1':{123:{'name':'xyz','amt':20,'account_no':123456}},\n",
    "                       'user2': {1456:{'name':'pqr','amt':50,'account_no':9876542}}}\n",
    "    def deposite(self,user,password,depo):\n",
    "        self.details[user][password]['amt'] = (self.details[user][password]['amt']) + depo\n",
    "        a= self.details[user][password]['amt']\n",
    "\n",
    "        print (f\"{depo} is credited in your account and the total is {a}\")\n",
    "        for i in self.details[user][password]:\n",
    "            print(f\"{i} = {self.details[user][password][i]}\")\n",
    "\n",
    "    def withdraw(self,user,password,wid):\n",
    "        self.details[user][password]['amt'] = (self.details[user][password]['amt']) - wid\n",
    "        a= self.details[user][password]['amt']\n",
    "\n",
    "        print (f\"{wid} is debited in your account and the total is {a}\")\n",
    "        for i in self.details[user][password]:\n",
    "            print(f\"{i} = {self.details[user][password][i]}\")\n",
    "\n",
    "obj = Bank()\n",
    "user=input(\"Enter user name:\")\n",
    "pass1=int(input(\"Enter the password:\"))\n",
    "amount=int(input(\"Enter the amount you want to deposite:\"))\n",
    "obj.deposite(user,pass1,amount)\n",
    "obj.withdraw('user1',123,10)"
   ]
  },
  {
   "cell_type": "code",
   "execution_count": 67,
   "id": "2995f380-c08d-4058-adb8-6ca9ac47c5c9",
   "metadata": {},
   "outputs": [
    {
     "name": "stdout",
     "output_type": "stream",
     "text": [
      "My father gifted me a edge watch\n"
     ]
    }
   ],
   "source": [
    "# Inheritance: parent\n",
    "#              child\n",
    "class parent:\n",
    "    def __init__(self,house,watch):\n",
    "        self.house=house\n",
    "        self.watch=watch\n",
    "class child(parent):\n",
    "    def cshow(self):\n",
    "        print(f\"My father gifted me a {self.watch}\")\n",
    "obj = child('bunglow','edge watch')\n",
    "obj.cshow()"
   ]
  },
  {
   "cell_type": "code",
   "execution_count": 71,
   "id": "48052a2d-b60c-4acb-acfc-b3126ff97cbf",
   "metadata": {},
   "outputs": [
    {
     "name": "stdout",
     "output_type": "stream",
     "text": [
      "mannat\n",
      "edge watch\n"
     ]
    }
   ],
   "source": [
    "#constructor in both inherited class\n",
    "class parent:\n",
    "    def __init__(self,house):\n",
    "        self.house=house\n",
    "        print(self.house)\n",
    "class child(parent):\n",
    "    def __init__(self,house,watch):\n",
    "        super().__init__(house)\n",
    "        self.watch=watch\n",
    "        print(self.watch)\n",
    "obj = child('mannat','edge watch')"
   ]
  },
  {
   "cell_type": "code",
   "execution_count": 72,
   "id": "d90aeadb-1339-40a5-b529-b67ecbc88d9d",
   "metadata": {},
   "outputs": [
    {
     "name": "stdout",
     "output_type": "stream",
     "text": [
      "My name is grandpaaaa and I have a child and a grandChild\n",
      "My father name is grandpaaaa and I have a child\n",
      "My grandpa name is grandpaaaa\n"
     ]
    }
   ],
   "source": [
    "#types of inheritance\n",
    "class a:\n",
    "    def __init__(self,name):\n",
    "        self.name=name\n",
    "        print(f\"My name is {name} and I have a child and a grandChild\")\n",
    "class b(a):\n",
    "    def show1(self):\n",
    "        print(f\"My father name is {self.name} and I have a child\")\n",
    "class c(b):\n",
    "    def show2(self):\n",
    "        print(f\"My grandpa name is {self.name}\")\n",
    "obj = c(\"grandpaaaa\")\n",
    "obj.show1()\n",
    "obj.show2()"
   ]
  },
  {
   "cell_type": "code",
   "execution_count": 11,
   "id": "b3b370cb-747c-4af8-8cb1-e61083f35bf9",
   "metadata": {},
   "outputs": [
    {
     "name": "stdout",
     "output_type": "stream",
     "text": [
      "Class name XYZ\n",
      "College name WIT\n",
      "My name ABC\n"
     ]
    }
   ],
   "source": [
    "#multipke inheritance\n",
    "class ClassData:\n",
    "    def __init__(self,clsname):\n",
    "        self.clsname=clsname\n",
    "        print(f\"Class name {self.clsname}\")\n",
    "class CollegeData:\n",
    "    def __init__(self,clgname):\n",
    "        self.clgname=clgname\n",
    "        print(f\"College name {self.clgname}\")\n",
    "class StudentData(ClassData,CollegeData):\n",
    "    def __init__(self,name,clsname,clgname):\n",
    "        ClassData.__init__(self,clsname)\n",
    "        CollegeData.__init__(self,clgname)\n",
    "        print(f\"My name {name}\")\n",
    "obj = StudentData(\"ABC\",\"XYZ\",\"WIT\")"
   ]
  },
  {
   "cell_type": "code",
   "execution_count": 20,
   "id": "3157ab8a-2c2f-4cf1-bd40-37888cfb8324",
   "metadata": {},
   "outputs": [
    {
     "name": "stdout",
     "output_type": "stream",
     "text": [
      "Kuch likhna h toh likhdo\n",
      "Kuch bhi likh do yrr..\n",
      "Addition of two numbers 18 and 33 is 51\n"
     ]
    }
   ],
   "source": [
    "class A:\n",
    "    def __init__(self,a):\n",
    "        self.a=a\n",
    "        \n",
    "class B(A):\n",
    "    print(\"Kuch likhna h toh likhdo\")\n",
    "    pass\n",
    "\n",
    "class C(A):\n",
    "    print(\"Kuch bhi likh do yrr..\")\n",
    "    pass\n",
    "\n",
    "class D(A):\n",
    "    def __init__(self,a,b):\n",
    "        super().__init__(a)\n",
    "        print(f\"Addition of two numbers {self.a} and {b} is {self.a+b}\")\n",
    "\n",
    "obj = D(18,33)"
   ]
  },
  {
   "cell_type": "code",
   "execution_count": 25,
   "id": "c73ff87b-662d-4c07-886a-0a1941dc0b46",
   "metadata": {},
   "outputs": [
    {
     "name": "stdout",
     "output_type": "stream",
     "text": [
      "I am student 1\n",
      "I am student 2\n",
      "i am Student 3\n",
      "I am a teacher to student1, student2 and student3\n"
     ]
    }
   ],
   "source": [
    "#hybrid inheritance\n",
    "\n",
    "class Student1:\n",
    "    def show1(self):\n",
    "        print(\"I am student 1\")\n",
    "\n",
    "class Student2(Student1):\n",
    "    def show2(self):\n",
    "        print(\"I am student 2\")\n",
    "\n",
    "class Student3:\n",
    "    def show3(self):\n",
    "        print(\"i am Student 3\")\n",
    "\n",
    "class Teacher(Student2,Student3):\n",
    "    def show4(self):\n",
    "        print(\"I am a teacher to student1, student2 and student3\")\n",
    "\n",
    "obj = Teacher()\n",
    "obj.show1()\n",
    "obj.show2()\n",
    "obj.show3()\n",
    "obj.show4()"
   ]
  },
  {
   "cell_type": "code",
   "execution_count": 26,
   "id": "b66d78f5-9279-4496-a214-227bf66822ec",
   "metadata": {},
   "outputs": [
    {
     "name": "stdin",
     "output_type": "stream",
     "text": [
      "Enter numbers separated by spaces:  2 8 4 6 1 9 \n"
     ]
    },
    {
     "name": "stdout",
     "output_type": "stream",
     "text": [
      "[9, 8, 6, 4, 2, 1]\n"
     ]
    }
   ],
   "source": [
    "a = list(map(int, input(\"Enter numbers separated by spaces: \").split()))\n",
    "\n",
    "for i in range(len(a)):\n",
    "    for j in range(len(a)):\n",
    "        if a[i] >= a[j]:\n",
    "            temp = a[i]\n",
    "            a[i] = a[j]\n",
    "            a[j] = temp\n",
    "n\n",
    "print(a)"
   ]
  },
  {
   "cell_type": "code",
   "execution_count": 29,
   "id": "a666ba05-b318-460b-9b03-427ee58a8dc8",
   "metadata": {},
   "outputs": [
    {
     "name": "stdout",
     "output_type": "stream",
     "text": [
      "*        *\n",
      "**      **\n",
      "***    ***\n",
      "****  ****\n",
      "**********\n",
      "**********\n",
      "****  ****\n",
      "***    ***\n",
      "**      **\n",
      "*        *\n"
     ]
    }
   ],
   "source": [
    "n=5\n",
    "for i in range(1,n+1):\n",
    "    print(\"*\"*i+\" \"*(2*(n-i))+\"*\"*i)\n",
    "for i in range(n,0,-1):\n",
    "    print(\"*\"*i+\" \"*(2*(n-i))+\"*\"*i)"
   ]
  },
  {
   "cell_type": "code",
   "execution_count": null,
   "id": "068b07cb-2dc7-4da6-9255-77f67a5e5b74",
   "metadata": {},
   "outputs": [],
   "source": []
  },
  {
   "cell_type": "code",
   "execution_count": null,
   "id": "3d396367-66c2-4fb3-839d-055180ebfc20",
   "metadata": {},
   "outputs": [],
   "source": []
  }
 ],
 "metadata": {
  "kernelspec": {
   "display_name": "Python 3 (ipykernel)",
   "language": "python",
   "name": "python3"
  },
  "language_info": {
   "codemirror_mode": {
    "name": "ipython",
    "version": 3
   },
   "file_extension": ".py",
   "mimetype": "text/x-python",
   "name": "python",
   "nbconvert_exporter": "python",
   "pygments_lexer": "ipython3",
   "version": "3.12.4"
  }
 },
 "nbformat": 4,
 "nbformat_minor": 5
}
