{
 "cells": [
  {
   "cell_type": "code",
   "execution_count": 1,
   "id": "62773c6b-1c38-4d11-ae16-7ef9033fc521",
   "metadata": {},
   "outputs": [
    {
     "name": "stdout",
     "output_type": "stream",
     "text": [
      "Second Method..\n"
     ]
    }
   ],
   "source": [
    "#polymorphism\n",
    "\n",
    "class A:\n",
    "    def show(self):\n",
    "        print(\"Frist Method..\")\n",
    "\n",
    "class B(A):\n",
    "    def show(self):\n",
    "        print(\"Second Method..\")\n",
    "\n",
    "obj = B()\n",
    "obj.show()"
   ]
  },
  {
   "cell_type": "code",
   "execution_count": 29,
   "id": "e780a8f8-c43d-4463-a7e1-f774d92d895b",
   "metadata": {},
   "outputs": [
    {
     "name": "stdout",
     "output_type": "stream",
     "text": [
      "4,10\n",
      "3,24\n",
      "0.3333333333333333,1.0\n",
      "(-2, 2)\n",
      "3 is greater than 1\n",
      "6 is greater than 4\n"
     ]
    }
   ],
   "source": [
    "#Operator overloding using magic methods\n",
    "# __mul__, __truediv__, __sub__, __gt__, __lt__, __eq__\n",
    "\n",
    "class A:\n",
    "    def __init__(self,a,b):\n",
    "        self.a=a\n",
    "        self.b=b\n",
    "        # print(self.a,self.b)\n",
    "\n",
    "    def __add__(first,second):\n",
    "        return (f\"{first.a+second.a},{first.b+second.b}\")\n",
    "\n",
    "    def __mul__(first,second):\n",
    "        return (f\"{first.a*second.a},{first.b*second.b}\")\n",
    "\n",
    "    def __truediv__(first,second):\n",
    "        return (f\"{first.a/second.a},{first.b/first.b}\")\n",
    "\n",
    "    def __sub__(first,second):\n",
    "        a=first.a-second.a\n",
    "        b=first.b-second.b\n",
    "        return(f\"{a,b}\")\n",
    "\n",
    "    def __gt__(first,second):\n",
    "        if first.a > second.a:\n",
    "            print(f\"{first.a} is greater than {second.a}\")\n",
    "        else:\n",
    "            print(f\"{second.a} is greater than {first.a}\")\n",
    "        if first.b > second.b:\n",
    "            return(f\"{first.b} is greater than {second.b}\")\n",
    "        else:\n",
    "            return(f\"{second.b} is greater than {first.b}\") \n",
    "obj1 = A(1,6)\n",
    "obj2 = A(3,4)\n",
    "print(obj1+obj2)\n",
    "print(obj1*obj2)\n",
    "print(obj1/obj2)\n",
    "print(obj1-obj2)\n",
    "print(obj1>obj2)"
   ]
  },
  {
   "cell_type": "code",
   "execution_count": 28,
   "id": "f06a9f94-e0ca-4831-956c-68b76d06cd6d",
   "metadata": {},
   "outputs": [
    {
     "name": "stdout",
     "output_type": "stream",
     "text": [
      "Abstraction...\n"
     ]
    }
   ],
   "source": [
    "#abstraction\n",
    "from abc import ABC,abstractmethod\n",
    "class Data(ABC):\n",
    "    pass\n",
    "\n",
    "class Data1(Data):\n",
    "    def show(self):\n",
    "        print(\"Abstraction...\")\n",
    "\n",
    "obj = Data1()\n",
    "obj.show()"
   ]
  },
  {
   "cell_type": "code",
   "execution_count": null,
   "id": "ff5b1533-bc39-460b-a7b3-626408d03c0d",
   "metadata": {},
   "outputs": [],
   "source": []
  }
 ],
 "metadata": {
  "kernelspec": {
   "display_name": "Python 3 (ipykernel)",
   "language": "python",
   "name": "python3"
  },
  "language_info": {
   "codemirror_mode": {
    "name": "ipython",
    "version": 3
   },
   "file_extension": ".py",
   "mimetype": "text/x-python",
   "name": "python",
   "nbconvert_exporter": "python",
   "pygments_lexer": "ipython3",
   "version": "3.12.4"
  }
 },
 "nbformat": 4,
 "nbformat_minor": 5
}
