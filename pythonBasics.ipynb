{
 "cells": [
  {
   "cell_type": "code",
   "execution_count": 1,
   "id": "e88c2406-7925-4656-ae89-206029f06a77",
   "metadata": {},
   "outputs": [
    {
     "name": "stdout",
     "output_type": "stream",
     "text": [
      "****************************************************************************************************\n"
     ]
    }
   ],
   "source": [
    "#simple python\n",
    "print(\"*\"*100)"
   ]
  },
  {
   "cell_type": "code",
   "execution_count": 2,
   "id": "6aa65bb9-f292-470c-86ed-47804dd44ae4",
   "metadata": {},
   "outputs": [
    {
     "name": "stdout",
     "output_type": "stream",
     "text": [
      "hbahsuR si eman yM\n",
      "name\n"
     ]
    }
   ],
   "source": [
    "data = \"My name is Rushabh\"\n",
    "print(data[::-1])#reverse a string\n",
    "print(data[3:7])"
   ]
  },
  {
   "cell_type": "code",
   "execution_count": 3,
   "id": "a9ca55d1-025d-48a2-97c8-740ee2659adc",
   "metadata": {},
   "outputs": [
    {
     "name": "stdout",
     "output_type": "stream",
     "text": [
      "i am rushabh\n",
      "I Am Rushabh\n",
      "I am rushabh\n",
      "I AM RUSHABH\n"
     ]
    }
   ],
   "source": [
    "name=\"I AM RUSHAbH\"\n",
    "print(name.lower())\n",
    "print(name.title())\n",
    "print(name.capitalize())\n",
    "print(name.upper())"
   ]
  },
  {
   "cell_type": "code",
   "execution_count": 4,
   "id": "b8aefdd4-ed7a-46ae-b3b2-83cfb1cdc8c0",
   "metadata": {},
   "outputs": [
    {
     "name": "stdout",
     "output_type": "stream",
     "text": [
      "[1, 2, 3, 'abc', 'xyz']\n",
      "<class 'list'>\n",
      "[1, 2, 3, 'pqr', 'abc', 'xyz']\n",
      "[1, 2, 3, 'abc']\n"
     ]
    }
   ],
   "source": [
    "#multi collection data types\n",
    "#list using constructor method\n",
    "a=list((1,2,3,\"abc\",\"xyz\"))\n",
    "print(a)\n",
    "print(type(a))\n",
    "\n",
    "b=[1,2,3,4,'abc','xyz']\n",
    "b[3]=\"pqr\"\n",
    "print(b)\n",
    "b.remove('pqr')\n",
    "b.pop()\n",
    "print(b)"
   ]
  },
  {
   "cell_type": "code",
   "execution_count": 5,
   "id": "0fdfec29-d419-46f4-b4d5-0683191c9885",
   "metadata": {},
   "outputs": [
    {
     "name": "stdout",
     "output_type": "stream",
     "text": [
      "[1, 'walchand', 2, 3, 4, 'abc', 'xyz']\n"
     ]
    }
   ],
   "source": [
    "b=[1,2,3,4,'abc','xyz']\n",
    "b.insert(1,\"walchand\")\n",
    "print(b)"
   ]
  },
  {
   "cell_type": "code",
   "execution_count": 6,
   "id": "4a70936d-035a-48da-8cd2-04cc74998bb5",
   "metadata": {},
   "outputs": [
    {
     "name": "stdout",
     "output_type": "stream",
     "text": [
      "Big Boss\n",
      "[[['a', [1, 2, [[0, 2, 'Big Boss', [12, 11, 33]]]]]]]\n"
     ]
    }
   ],
   "source": [
    "a = [[[\"a\",[1,2,[[0,2,'bb',[12,11,33]]]]]]]\n",
    "b=a[0][0][1][2][0][2] = \"Big Boss\"\n",
    "print(b)\n",
    "print(a)"
   ]
  },
  {
   "cell_type": "code",
   "execution_count": 8,
   "id": "ec7b5544-24b1-4862-ac6c-b8a9c5dd618b",
   "metadata": {},
   "outputs": [
    {
     "name": "stdout",
     "output_type": "stream",
     "text": [
      "[1, 2, [0, [[['xyz', [0, 99, 4, ['a', 'b', [1, 2, 3, ['yes', 'WIT', [[5]]]]]]]]]]]\n"
     ]
    }
   ],
   "source": [
    "a=[1,2,[0,[[['xyz',[0,99,4,['a','b',[1,2,3,['yes','no',[[5]]]]]]]]]]]\n",
    "b=a[2][1][0][0][1][3][2][3][1]=\"WIT\"\n",
    "print(a)"
   ]
  },
  {
   "cell_type": "code",
   "execution_count": 9,
   "id": "2b4739fb-12fe-4550-9e1d-5626a468a1d7",
   "metadata": {},
   "outputs": [
    {
     "name": "stdout",
     "output_type": "stream",
     "text": [
      "RUSHABH\n",
      "[1, 2, [0, [[['xyz', [0, 99, 4, ['a', 'b', [1, 2, 3, ['yes', 'RUSHABH', [[5]]]]]]]]]]]\n"
     ]
    }
   ],
   "source": [
    "b = a[2][1][0][0][1][3][2][3][1] = \"RUSHABH\"\n",
    "print(b)\n",
    "print(a)"
   ]
  },
  {
   "cell_type": "code",
   "execution_count": 10,
   "id": "26a2d93f-0e74-4d57-aa0f-d8fb4927b45d",
   "metadata": {},
   "outputs": [
    {
     "name": "stdout",
     "output_type": "stream",
     "text": [
      "[1, 2, [0, [['xyz', (0, 99, 4, ['a', 'b', [1, 2, 3, ['yes', ('no',), [[5]]]]])]]]]\n",
      "[1, 2, [0, [['xyz', (0, 99, 4, ['a', 'b', [1, 2, 3, ['yes', ('WIT',), [[5]]]]])]]]]\n"
     ]
    }
   ],
   "source": [
    "#tuple \n",
    "a=[1,2,[0,([['xyz',(0,99,4,['a','b',[1,2,3,['yes',('no',),[[5]]]]])]])]]\n",
    "print(a)\n",
    "a[2][1][0][1][3][2][3][1] = (\"WIT\",)\n",
    "print(a)"
   ]
  }
 ],
 "metadata": {
  "kernelspec": {
   "display_name": "Python 3 (ipykernel)",
   "language": "python",
   "name": "python3"
  },
  "language_info": {
   "codemirror_mode": {
    "name": "ipython",
    "version": 3
   },
   "file_extension": ".py",
   "mimetype": "text/x-python",
   "name": "python",
   "nbconvert_exporter": "python",
   "pygments_lexer": "ipython3",
   "version": "3.12.4"
  }
 },
 "nbformat": 4,
 "nbformat_minor": 5
}
